{
 "cells": [
  {
   "cell_type": "markdown",
   "metadata": {},
   "source": [
    "# Model Comparison for Text Summarization\n",
    "\n",
    "In this notebook, we will compare the performance of different text summarization models using various evaluation metrics. We will evaluate both extractive and abstractive summarization techniques."
   ]
  },
  {
   "cell_type": "code",
   "execution_count": 1,
   "metadata": {},
   "outputs": [],
   "source": [
    "# Import necessary libraries\n",
    "import pandas as pd\n",
    "import numpy as np\n",
    "from src.utils.evaluation_metrics import calculate_rouge, calculate_bleu\n",
    "from src.models.extractive_model import ExtractiveModel\n",
    "from src.models.abstractive_model import AbstractiveModel\n",
    "from src.utils.data_preprocessing import preprocess_text\n",
    "\n",
    "# Load the cleaned data\n",
    "with open('../data/processed/cleaned_data.txt', 'r') as file:\n",
    "    cleaned_data = file.read()\n",
    "\n",
    "# Preprocess the text\n",
    "processed_text = preprocess_text(cleaned_data)\n",
    "\n",
    "# Initialize models\n",
    "extractive_model = ExtractiveModel()\n",
    "abstractive_model = AbstractiveModel()\n",
    "\n",
    "# Generate summaries\n",
    "extractive_summary = extractive_model.summarize(processed_text)\n",
    "abstractive_summary = abstractive_model.summarize(processed_text)\n",
    "\n",
    "# Load reference summaries for evaluation\n",
    "reference_summary = \"[Insert reference summary here]\"\n",
    "\n",
    "# Evaluate summaries\n",
    "rouge_extractive = calculate_rouge(reference_summary, extractive_summary)\n",
    "rouge_abstractive = calculate_rouge(reference_summary, abstractive_summary)\n",
    "bleu_extractive = calculate_bleu(reference_summary, extractive_summary)\n",
    "bleu_abstractive = calculate_bleu(reference_summary, abstractive_summary)\n",
    "\n",
    "# Compile results\n",
    "results = pd.DataFrame({\n",
    "    'Model': ['Extractive', 'Abstractive'],\n",
    "    'ROUGE Score': [rouge_extractive, rouge_abstractive],\n",
    "    'BLEU Score': [bleu_extractive, bleu_abstractive]\n",
    "})\n",
    "\n",
    "# Display results\n",
    "results"
   ]
  },
  {
   "cell_type": "markdown",
   "metadata": {},
   "source": [
    "## Conclusion\n",
    "\n",
    "In this notebook, we compared the performance of extractive and abstractive summarization models using ROUGE and BLEU scores. The results will help us understand which model performs better for our specific use case."
   ]
  }
 ],
 "metadata": {
  "kernelspec": {
   "display_name": "Python 3",
   "language": "python",
   "name": "python3"
  },
  "language_info": {
   "codemirror_mode": {
    "name": "ipython",
    "version": 3
   },
   "file_extension": ".py",
   "mimetype": "text/x-python",
   "name": "python",
   "nbconvert_exporter": "python",
   "pygments_lexer": "ipython3",
   "version": "3.8.5"
  }
 },
 "nbformat": 4,
 "nbformat_minor": 4
}